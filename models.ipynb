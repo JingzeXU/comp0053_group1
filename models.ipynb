{
 "cells": [
  {
   "cell_type": "code",
   "execution_count": 1,
   "id": "c08d50ba",
   "metadata": {},
   "outputs": [],
   "source": [
    "import numpy as np\n",
    "import sklearn\n",
    "import matplotlib.pyplot as plt\n",
    "import time\n",
    "from sklearn.model_selection import train_test_split\n",
    "from sklearn.kernel_ridge import KernelRidge\n",
    "from sklearn.svm import SVR, LinearSVR\n",
    "from sklearn.tree import DecisionTreeRegressor\n",
    "from sklearn.linear_model import SGDRegressor"
   ]
  },
  {
   "cell_type": "code",
   "execution_count": 28,
   "id": "af6e6b25",
   "metadata": {},
   "outputs": [
    {
     "name": "stdout",
     "output_type": "stream",
     "text": [
      "(1065, 710) (1065,)\n"
     ]
    }
   ],
   "source": [
    "# Load dataset\n",
    "X = np.load('dataset_tensors/X.npy')\n",
    "y = np.load('dataset_tensors/y.npy')\n",
    "print(X.shape, y.shape)"
   ]
  },
  {
   "cell_type": "code",
   "execution_count": 29,
   "id": "a3fa3727",
   "metadata": {},
   "outputs": [],
   "source": [
    "# train models\n",
    "def train_models(X_train, y_train):\n",
    "    print(\"Training...\\n\")\n",
    "    t0 = time.time()\n",
    "    models = []\n",
    "    \n",
    "    krr1 = KernelRidge(kernel='linear')\n",
    "    krr1.fit(X_train, y_train)\n",
    "    print(krr1)\n",
    "    models.append(krr1)\n",
    "    \n",
    "    krr2 = KernelRidge(kernel='poly')\n",
    "    krr2.fit(X_train, y_train)\n",
    "    print(krr2)\n",
    "    models.append(krr2)\n",
    "    \n",
    "    krr3 = KernelRidge(kernel='rbf')\n",
    "    krr3.fit(X_train, y_train)\n",
    "    print(krr3)\n",
    "    models.append(krr3)\n",
    "    \n",
    "    krr4 = KernelRidge(kernel='laplacian')\n",
    "    krr4.fit(X_train, y_train)\n",
    "    print(krr4)\n",
    "    models.append(krr4)\n",
    "    \n",
    "    krr5 = KernelRidge(kernel='sigmoid')\n",
    "    krr5.fit(X_train, y_train)\n",
    "    print(krr5)\n",
    "    models.append(krr5)\n",
    "\n",
    "    svr1 = LinearSVR(random_state=42, max_iter=5000)\n",
    "    svr1.fit(X_train, y_train)\n",
    "    print(svr1)\n",
    "    models.append(svr1)\n",
    "    \n",
    "    svr2 = SVR(kernel=\"poly\")\n",
    "    svr2.fit(X_train, y_train)\n",
    "    print(svr2)\n",
    "    models.append(svr2)\n",
    "    \n",
    "    svr3 = SVR(kernel=\"rbf\")\n",
    "    svr3.fit(X_train, y_train)\n",
    "    print(svr3)\n",
    "    models.append(svr3)\n",
    "\n",
    "    dtr = DecisionTreeRegressor(random_state=42)\n",
    "    dtr.fit(X_train, y_train)\n",
    "    print(dtr)\n",
    "    models.append(dtr)\n",
    "    \n",
    "    t1 = time.time()\n",
    "    print(f\"train time: {t1 - t0: .2f} s\\n\")\n",
    "    \n",
    "    return models"
   ]
  },
  {
   "cell_type": "code",
   "execution_count": 30,
   "id": "9bad96c8",
   "metadata": {},
   "outputs": [],
   "source": [
    "# test models\n",
    "def test_models(models, X_test, y_test):\n",
    "    print(\"Test with MSE loss:\\n\")\n",
    "    t0 = time.time()   \n",
    "    rmses, maes = [], []\n",
    "    for m in models:\n",
    "        y_pred = m.predict(X_test)\n",
    "        rmse = np.sqrt(np.mean((y_pred - y_test)**2))\n",
    "        mae = np.mean(np.abs(y_pred - y_test))\n",
    "        rmses.append(rmse)\n",
    "        maes.append(mae)\n",
    "        print(f\"{m}: {rmse:.4f}\")\n",
    "    \n",
    "    t1 = time.time()\n",
    "    print(f\"test time: {t1 - t0: .2f} s\\n\")\n",
    "    \n",
    "    return [rmses, maes]"
   ]
  },
  {
   "cell_type": "code",
   "execution_count": 31,
   "id": "bf291a50",
   "metadata": {},
   "outputs": [],
   "source": [
    "# KernelRidge kernel : linear > poly > rbf"
   ]
  },
  {
   "cell_type": "code",
   "execution_count": 32,
   "id": "01ee1651",
   "metadata": {},
   "outputs": [
    {
     "name": "stdout",
     "output_type": "stream",
     "text": [
      "Training...\n",
      "\n",
      "KernelRidge()\n",
      "KernelRidge(kernel='poly')\n",
      "KernelRidge(kernel='rbf')\n"
     ]
    },
    {
     "name": "stderr",
     "output_type": "stream",
     "text": [
      "C:\\Users\\ABC\\.conda\\envs\\mytorch\\lib\\site-packages\\sklearn\\linear_model\\_ridge.py:194: LinAlgWarning: Ill-conditioned matrix (rcond=2.00863e-17): result may not be accurate.\n",
      "  dual_coef = linalg.solve(K, y, sym_pos=True, overwrite_a=False)\n"
     ]
    },
    {
     "name": "stdout",
     "output_type": "stream",
     "text": [
      "KernelRidge(kernel='laplacian')\n",
      "KernelRidge(kernel='sigmoid')\n"
     ]
    },
    {
     "name": "stderr",
     "output_type": "stream",
     "text": [
      "C:\\Users\\ABC\\.conda\\envs\\mytorch\\lib\\site-packages\\sklearn\\svm\\_base.py:1206: ConvergenceWarning: Liblinear failed to converge, increase the number of iterations.\n",
      "  warnings.warn(\n"
     ]
    },
    {
     "name": "stdout",
     "output_type": "stream",
     "text": [
      "LinearSVR(max_iter=5000, random_state=42)\n",
      "SVR(kernel='poly')\n",
      "SVR()\n",
      "DecisionTreeRegressor(random_state=42)\n",
      "train time:  7.69 s\n",
      "\n",
      "Test with MSE loss:\n",
      "\n",
      "KernelRidge(): 2.0785\n",
      "KernelRidge(kernel='poly'): 3.4044\n",
      "KernelRidge(kernel='rbf'): 6.3342\n",
      "KernelRidge(kernel='laplacian'): 5.2596\n",
      "KernelRidge(kernel='sigmoid'): 2.7997\n",
      "LinearSVR(max_iter=5000, random_state=42): 2.4799\n",
      "SVR(kernel='poly'): 2.8399\n",
      "SVR(): 2.8835\n",
      "DecisionTreeRegressor(random_state=42): 1.9090\n",
      "test time:  0.28 s\n",
      "\n"
     ]
    }
   ],
   "source": [
    "# Train and test using all features\n",
    "X_train, X_test, y_train, y_test = train_test_split(X, y, test_size=0.2, random_state=42)\n",
    "models = train_models(X_train, y_train)\n",
    "errs_all = test_models(models, X_test, y_test)"
   ]
  },
  {
   "cell_type": "code",
   "execution_count": 33,
   "id": "66f8c283",
   "metadata": {},
   "outputs": [
    {
     "name": "stdout",
     "output_type": "stream",
     "text": [
      "Training...\n",
      "\n",
      "KernelRidge()\n",
      "KernelRidge(kernel='poly')\n",
      "KernelRidge(kernel='rbf')\n"
     ]
    },
    {
     "name": "stderr",
     "output_type": "stream",
     "text": [
      "C:\\Users\\ABC\\.conda\\envs\\mytorch\\lib\\site-packages\\sklearn\\linear_model\\_ridge.py:194: LinAlgWarning: Ill-conditioned matrix (rcond=1.28322e-17): result may not be accurate.\n",
      "  dual_coef = linalg.solve(K, y, sym_pos=True, overwrite_a=False)\n"
     ]
    },
    {
     "name": "stdout",
     "output_type": "stream",
     "text": [
      "KernelRidge(kernel='laplacian')\n",
      "KernelRidge(kernel='sigmoid')\n"
     ]
    },
    {
     "name": "stderr",
     "output_type": "stream",
     "text": [
      "C:\\Users\\ABC\\.conda\\envs\\mytorch\\lib\\site-packages\\sklearn\\svm\\_base.py:1206: ConvergenceWarning: Liblinear failed to converge, increase the number of iterations.\n",
      "  warnings.warn(\n"
     ]
    },
    {
     "name": "stdout",
     "output_type": "stream",
     "text": [
      "LinearSVR(max_iter=5000, random_state=42)\n",
      "SVR(kernel='poly')\n",
      "SVR()\n",
      "DecisionTreeRegressor(random_state=42)\n",
      "train time:  3.56 s\n",
      "\n",
      "Test with MSE loss:\n",
      "\n",
      "KernelRidge(): 2.0339\n",
      "KernelRidge(kernel='poly'): 3.3477\n",
      "KernelRidge(kernel='rbf'): 5.7279\n",
      "KernelRidge(kernel='laplacian'): 4.7434\n",
      "KernelRidge(kernel='sigmoid'): 2.7997\n",
      "LinearSVR(max_iter=5000, random_state=42): 2.5008\n",
      "SVR(kernel='poly'): 2.8581\n",
      "SVR(): 2.8576\n",
      "DecisionTreeRegressor(random_state=42): 1.5564\n",
      "test time:  0.12 s\n",
      "\n"
     ]
    }
   ],
   "source": [
    "# only head pose features\n",
    "X1 = X[:, 288: 634]  # head pose features\n",
    "X_train, X_test, y_train, y_test = train_test_split(X1, y, test_size=0.2, random_state=42)\n",
    "models = train_models(X_train, y_train)\n",
    "errs_head = test_models(models, X_test, y_test)"
   ]
  },
  {
   "cell_type": "code",
   "execution_count": 34,
   "id": "617a5a81",
   "metadata": {
    "scrolled": false
   },
   "outputs": [
    {
     "name": "stdout",
     "output_type": "stream",
     "text": [
      "Training...\n",
      "\n",
      "KernelRidge()\n",
      "KernelRidge(kernel='poly')\n",
      "KernelRidge(kernel='rbf')\n"
     ]
    },
    {
     "name": "stderr",
     "output_type": "stream",
     "text": [
      "C:\\Users\\ABC\\.conda\\envs\\mytorch\\lib\\site-packages\\sklearn\\linear_model\\_ridge.py:194: LinAlgWarning: Ill-conditioned matrix (rcond=3.27875e-17): result may not be accurate.\n",
      "  dual_coef = linalg.solve(K, y, sym_pos=True, overwrite_a=False)\n"
     ]
    },
    {
     "name": "stdout",
     "output_type": "stream",
     "text": [
      "KernelRidge(kernel='laplacian')\n",
      "KernelRidge(kernel='sigmoid')\n"
     ]
    },
    {
     "name": "stderr",
     "output_type": "stream",
     "text": [
      "C:\\Users\\ABC\\.conda\\envs\\mytorch\\lib\\site-packages\\sklearn\\svm\\_base.py:1206: ConvergenceWarning: Liblinear failed to converge, increase the number of iterations.\n",
      "  warnings.warn(\n"
     ]
    },
    {
     "name": "stdout",
     "output_type": "stream",
     "text": [
      "LinearSVR(max_iter=5000, random_state=42)\n",
      "SVR(kernel='poly')\n",
      "SVR()\n",
      "DecisionTreeRegressor(random_state=42)\n",
      "train time:  3.80 s\n",
      "\n",
      "Test with MSE loss:\n",
      "\n",
      "KernelRidge(): 2.1766\n",
      "KernelRidge(kernel='poly'): 3.4953\n",
      "KernelRidge(kernel='rbf'): 6.3531\n",
      "KernelRidge(kernel='laplacian'): 5.3439\n",
      "KernelRidge(kernel='sigmoid'): 2.7997\n",
      "LinearSVR(max_iter=5000, random_state=42): 2.6727\n",
      "SVR(kernel='poly'): 2.8528\n",
      "SVR(): 2.8860\n",
      "DecisionTreeRegressor(random_state=42): 2.0946\n",
      "test time:  0.16 s\n",
      "\n"
     ]
    }
   ],
   "source": [
    "# only facial features\n",
    "X2 = np.concatenate([X[:, :288], X[:, 634:-1]], axis=1)\n",
    "X_train, X_test, y_train, y_test = train_test_split(X2, y, test_size=0.2, random_state=42)\n",
    "models = train_models(X_train, y_train)\n",
    "errs_face = test_models(models, X_test, y_test)"
   ]
  },
  {
   "cell_type": "code",
   "execution_count": 35,
   "id": "5b33dd51",
   "metadata": {
    "scrolled": false
   },
   "outputs": [
    {
     "name": "stdout",
     "output_type": "stream",
     "text": [
      "Training...\n",
      "\n",
      "KernelRidge()\n",
      "KernelRidge(kernel='poly')\n",
      "KernelRidge(kernel='rbf')\n",
      "KernelRidge(kernel='laplacian')\n",
      "KernelRidge(kernel='sigmoid')\n",
      "LinearSVR(max_iter=5000, random_state=42)\n"
     ]
    },
    {
     "name": "stderr",
     "output_type": "stream",
     "text": [
      "C:\\Users\\ABC\\.conda\\envs\\mytorch\\lib\\site-packages\\sklearn\\linear_model\\_ridge.py:196: UserWarning: Singular matrix in solving dual problem. Using least-squares solution instead.\n",
      "  warnings.warn(\n"
     ]
    },
    {
     "name": "stdout",
     "output_type": "stream",
     "text": [
      "SVR(kernel='poly')\n",
      "SVR()\n",
      "DecisionTreeRegressor(random_state=42)\n",
      "train time:  0.38 s\n",
      "\n",
      "Test with MSE loss:\n",
      "\n",
      "KernelRidge(): 6.4944\n",
      "KernelRidge(kernel='poly'): 2.7963\n",
      "KernelRidge(kernel='rbf'): 3.0641\n",
      "KernelRidge(kernel='laplacian'): 3.0326\n",
      "KernelRidge(kernel='sigmoid'): 2.7798\n",
      "LinearSVR(max_iter=5000, random_state=42): 3.0107\n",
      "SVR(kernel='poly'): 3.0094\n",
      "SVR(): 3.0214\n",
      "DecisionTreeRegressor(random_state=42): 2.9346\n",
      "test time:  0.06 s\n",
      "\n"
     ]
    }
   ],
   "source": [
    "# only bpm feature\n",
    "X3 = X[:, -1].reshape(-1, 1)\n",
    "X_train, X_test, y_train, y_test = train_test_split(X3, y, test_size=0.2, random_state=42)\n",
    "models = train_models(X_train, y_train)\n",
    "errs_bpm = test_models(models, X_test, y_test)"
   ]
  },
  {
   "cell_type": "code",
   "execution_count": 23,
   "id": "e0f02cec",
   "metadata": {},
   "outputs": [
    {
     "name": "stdout",
     "output_type": "stream",
     "text": [
      "(35, 60) (35,)\n"
     ]
    }
   ],
   "source": [
    "# Load new dataset, X_bpm contains bpm sequences, y_bpm contains scores.\n",
    "X = np.load('dataset_tensors/X_bpm.npy')\n",
    "y = np.load('dataset_tensors/y_bpm.npy')\n",
    "print(X.shape, y.shape)"
   ]
  },
  {
   "cell_type": "code",
   "execution_count": 24,
   "id": "81dfc777",
   "metadata": {
    "scrolled": false
   },
   "outputs": [
    {
     "name": "stdout",
     "output_type": "stream",
     "text": [
      "Training...\n",
      "\n",
      "KernelRidge()\n",
      "KernelRidge(kernel='poly')\n",
      "KernelRidge(kernel='rbf')\n",
      "KernelRidge(kernel='laplacian')\n",
      "KernelRidge(kernel='sigmoid')\n",
      "LinearSVR(max_iter=5000, random_state=42)\n",
      "SVR(kernel='poly')\n",
      "SVR()\n",
      "DecisionTreeRegressor(random_state=42)\n",
      "train time:  0.02 s\n",
      "\n",
      "Test with MSE loss:\n",
      "\n",
      "KernelRidge(): 12.7394\n",
      "KernelRidge(kernel='poly'): 83.0492\n",
      "KernelRidge(kernel='rbf'): 5.4716\n",
      "KernelRidge(kernel='laplacian'): 4.9644\n",
      "KernelRidge(kernel='sigmoid'): 7.2240\n",
      "LinearSVR(max_iter=5000, random_state=42): 7.6627\n",
      "SVR(kernel='poly'): 5.1932\n",
      "SVR(): 4.5956\n",
      "DecisionTreeRegressor(random_state=42): 5.6315\n",
      "test time:  0.02 s\n",
      "\n"
     ]
    },
    {
     "name": "stderr",
     "output_type": "stream",
     "text": [
      "C:\\Users\\ABC\\.conda\\envs\\mytorch\\lib\\site-packages\\sklearn\\linear_model\\_ridge.py:196: UserWarning: Singular matrix in solving dual problem. Using least-squares solution instead.\n",
      "  warnings.warn(\n"
     ]
    }
   ],
   "source": [
    "# Train and test using bpm sequences as feature.\n",
    "X_train, X_test, y_train, y_test = train_test_split(X, y, test_size=0.2, random_state=42)\n",
    "models = train_models(X_train, y_train)\n",
    "errs_bpmseq = test_models(models, X_test, y_test)"
   ]
  },
  {
   "cell_type": "code",
   "execution_count": 36,
   "id": "b8bd4c66",
   "metadata": {
    "scrolled": false
   },
   "outputs": [
    {
     "data": {
      "image/png": "[encoded data removed]",
      "text/plain": [
       "<Figure size 1080x432 with 1 Axes>"
      ]
     },
     "metadata": {
      "needs_background": "light"
     },
     "output_type": "display_data"
    }
   ],
   "source": [
    "# Plot graphs.\n",
    "x = [\"KRR linear\", \"KRR poly\", \"KRR rbf\", \"KRR laplacian\", \"KRR sigmoid\", \"SVR linear\", \"SVR poly\", \"SVR rbf\", \"DTR\"]\n",
    "plt.plot(x, errs_all[0], 'bo-', label=\"all features\")\n",
    "plt.plot(x, errs_head[0], 'go-', label=\"head pose features\")\n",
    "plt.plot(x, errs_face[0], 'ro-', label=\"facial features\")\n",
    "plt.plot(x, errs_bpm[0], 'ko-', label=\"bpm feature\")\n",
    "# plt.plot(x, errs_bpmseq, 'co-', label=\"bpm sequence feature\")\n",
    "plt.rcParams[\"figure.figsize\"] = (15, 6)\n",
    "plt.title(\"\")\n",
    "plt.xlabel(\"models\")\n",
    "plt.ylabel(\"RMSE\")\n",
    "plt.legend()\n",
    "plt.show()"
   ]
  },
  {
   "cell_type": "code",
   "execution_count": 37,
   "id": "03a41283",
   "metadata": {},
   "outputs": [
    {
     "data": {
      "image/png": "[encoded data removed]",
      "text/plain": [
       "<Figure size 1080x432 with 1 Axes>"
      ]
     },
     "metadata": {
      "needs_background": "light"
     },
     "output_type": "display_data"
    }
   ],
   "source": [
    "# Plot graphs for only \"all features\".\n",
    "x = [\"KRR linear\", \"KRR poly\", \"KRR rbf\", \"KRR laplacian\", \"KRR sigmoid\", \"SVR linear\", \"SVR poly\", \"SVR rbf\", \"DTR\"]\n",
    "plt.plot(x, errs_all[0], 'co-', label=\"RMSE\")\n",
    "plt.plot(x, errs_all[1], 'mo-', label=\"MAE\")\n",
    "plt.rcParams[\"figure.figsize\"] = (15, 6)\n",
    "plt.title(\"\")\n",
    "plt.xlabel(\"models\")\n",
    "plt.ylabel(\"Test errors\")\n",
    "plt.legend()\n",
    "plt.show()"
   ]
  },
  {
   "cell_type": "code",
   "execution_count": null,
   "id": "2059dbe7",
   "metadata": {},
   "outputs": [],
   "source": []
  }
 ],
 "metadata": {
  "kernelspec": {
   "display_name": "mytorch",
   "language": "python",
   "name": "mytorch"
  },
  "language_info": {
   "codemirror_mode": {
    "name": "ipython",
    "version": 3
   },
   "file_extension": ".py",
   "mimetype": "text/x-python",
   "name": "python",
   "nbconvert_exporter": "python",
   "pygments_lexer": "ipython3",
   "version": "3.9.12"
  }
 },
 "nbformat": 4,
 "nbformat_minor": 5
}
