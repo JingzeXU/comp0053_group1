{
 "cells": [
  {
   "cell_type": "code",
   "execution_count": 13,
   "id": "c08d50ba",
   "metadata": {},
   "outputs": [],
   "source": [
    "import numpy as np\n",
    "import sklearn\n",
    "from sklearn.model_selection import train_test_split\n",
    "from sklearn.kernel_ridge import KernelRidge\n",
    "from sklearn.svm import SVR\n",
    "from sklearn.tree import DecisionTreeRegressor"
   ]
  },
  {
   "cell_type": "code",
   "execution_count": 14,
   "id": "af6e6b25",
   "metadata": {},
   "outputs": [],
   "source": [
    "X = np.load('dataset_tensors/X.npy')\n",
    "y = np.load('dataset_tensors/y.npy')\n",
    "X_train, X_test, y_train, y_test = train_test_split(X, y, test_size=0.2, random_state=42)"
   ]
  },
  {
   "cell_type": "code",
   "execution_count": 29,
   "id": "a3fa3727",
   "metadata": {},
   "outputs": [
    {
     "data": {
      "text/plain": [
       "KernelRidge()"
      ]
     },
     "execution_count": 29,
     "metadata": {},
     "output_type": "execute_result"
    }
   ],
   "source": [
    "krr = KernelRidge(alpha=1, kernel='linear')\n",
    "krr.fit(X_train, y_train)"
   ]
  },
  {
   "cell_type": "code",
   "execution_count": 16,
   "id": "9bad96c8",
   "metadata": {},
   "outputs": [
    {
     "data": {
      "text/plain": [
       "SVR(C=10, gamma=10)"
      ]
     },
     "execution_count": 16,
     "metadata": {},
     "output_type": "execute_result"
    }
   ],
   "source": [
    "svr = SVR(kernel=\"rbf\", C=10, gamma=10)\n",
    "svr.fit(X_train, y_train)"
   ]
  },
  {
   "cell_type": "code",
   "execution_count": 17,
   "id": "1b4a08ef",
   "metadata": {},
   "outputs": [
    {
     "data": {
      "text/plain": [
       "DecisionTreeRegressor(random_state=42)"
      ]
     },
     "execution_count": 17,
     "metadata": {},
     "output_type": "execute_result"
    }
   ],
   "source": [
    "dtr = DecisionTreeRegressor(random_state=42)\n",
    "dtr.fit(X_train, y_train)"
   ]
  },
  {
   "cell_type": "code",
   "execution_count": 30,
   "id": "e573413f",
   "metadata": {},
   "outputs": [
    {
     "data": {
      "text/plain": [
       "4.222634451375972"
      ]
     },
     "execution_count": 30,
     "metadata": {},
     "output_type": "execute_result"
    }
   ],
   "source": [
    "y_pred = krr.predict(X_test)\n",
    "err = np.mean((y_pred - y_test)**2)\n",
    "err"
   ]
  },
  {
   "cell_type": "code",
   "execution_count": 18,
   "id": "dc79db5c",
   "metadata": {},
   "outputs": [
    {
     "data": {
      "text/plain": [
       "7.835221562046514"
      ]
     },
     "execution_count": 18,
     "metadata": {},
     "output_type": "execute_result"
    }
   ],
   "source": [
    "y_pred = svr.predict(X_test)\n",
    "err = np.mean((y_pred - y_test)**2)\n",
    "err"
   ]
  },
  {
   "cell_type": "code",
   "execution_count": 19,
   "id": "ad031e16",
   "metadata": {},
   "outputs": [
    {
     "data": {
      "text/plain": [
       "4.401408450704225"
      ]
     },
     "execution_count": 19,
     "metadata": {},
     "output_type": "execute_result"
    }
   ],
   "source": [
    "y_pred = dtr.predict(X_test)\n",
    "err = np.mean((y_pred - y_test)**2)\n",
    "err"
   ]
  },
  {
   "cell_type": "code",
   "execution_count": null,
   "id": "bf291a50",
   "metadata": {},
   "outputs": [],
   "source": [
    "# KernelRidge kernel : linear > poly > rbf"
   ]
  }
 ],
 "metadata": {
  "kernelspec": {
   "display_name": "comp0090-cw1",
   "language": "python",
   "name": "comp0090-cw1"
  },
  "language_info": {
   "codemirror_mode": {
    "name": "ipython",
    "version": 3
   },
   "file_extension": ".py",
   "mimetype": "text/x-python",
   "name": "python",
   "nbconvert_exporter": "python",
   "pygments_lexer": "ipython3",
   "version": "3.8.12"
  }
 },
 "nbformat": 4,
 "nbformat_minor": 5
}
